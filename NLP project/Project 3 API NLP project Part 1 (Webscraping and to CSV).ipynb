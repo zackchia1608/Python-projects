{
 "cells": [
  {
   "cell_type": "markdown",
   "id": "aa8e528c",
   "metadata": {},
   "source": [
    "<img src=\"https://i.imgur.com/EGtMXKh.jpg?1\" style=\"float: left; margin: 20px; height: 55px\">\n",
    "\n",
    "# Project 3: Natural Language Processing Challenge (Part 1)"
   ]
  },
  {
   "cell_type": "markdown",
   "id": "26de555e",
   "metadata": {},
   "source": [
    "---\n",
    "\n",
    "## Problem Statement"
   ]
  },
  {
   "cell_type": "markdown",
   "id": "7e883dbc",
   "metadata": {},
   "source": [
    "Our company is currently building a new wellness and mindfulness app to help promote better mental health. The app aims to provide thought of the day based on natural philosophies such as Buddhism and Stoicism. As a start, everyday, the app will allow the user to write one sentence against a prompt on certain topics. The app will then assess if the user is more in line with Buddhist or Stoic philosophies, and in return decide to return either Buddhist advice or Stoic advice based on the prompt written. \n",
    "\n",
    "To train the app to gain an understanding of the types of people who will be more aligned with Buddhist or Stoic philosophies, we will be using posts from the subreddits r/Buddhism and r/Stoicism to machine train our model to distinguish and classify posts from the different subreddits."
   ]
  },
  {
   "cell_type": "markdown",
   "id": "1e17e615",
   "metadata": {},
   "source": [
    "# Content Page"
   ]
  },
  {
   "cell_type": "markdown",
   "id": "41e34477",
   "metadata": {},
   "source": [
    "---\n",
    "\n",
    "# Background of the Project"
   ]
  },
  {
   "cell_type": "markdown",
   "id": "759fe50f",
   "metadata": {},
   "source": [
    "<b> Buddhism </b>\n",
    "\n",
    "Buddhism is one of the world’s major religions. It originated in India in 563–483 B.C.E. with Siddhartha Gautama, and over the next millennia it spread across Asia and the rest of the world. As a summary,  Buddhists believe that human life is a cycle of suffering and rebirth, but that if one achieves a state of enlightenment (nirvana), it is possible to escape this cycle forever. The Buddha taught Four Noble Truths. The first truth is called “Suffering (dukkha),” which teaches that everyone in life is suffering in some way. The second truth is “Origin of suffering (samudāya).” This states that all suffering comes from desire (tanhā). The third truth is “Cessation of suffering (nirodha),” and it says that it is possible to stop suffering and achieve enlightenment. The fourth truth, “Path to the cessation of suffering (magga)” is about the Middle Way, which are the steps to achieve enlightenment.\n",
    "\n",
    "<b> Stoicism </b>\n",
    "\n",
    "Stoicism is a school of Hellenistic philosophy founded by Zeno of Citium in Athens in the early 3rd century BC. It is a philosophy of personal eudaemonic virtue ethics informed by its system of logic and its views on the natural world, asserting that the practice of virtue is both necessary and sufficient to achieve eudaimonia—flourishing by means of living an ethical life. The Stoics identified the path to eudaimonia with a life spent practicing the cardinal virtues and living in accordance with nature. Stoicism teaches the development of self-control and fortitude as a means of overcoming destructive emotions; the philosophy holds that becoming a clear and unbiased thinker allows one to understand the universal reason (logos). Stoicism's primary aspect involves improving the individual's ethical and moral well-being: \"Virtue consists in a will that is in agreement with Nature\". This principle also applies to the realm of interpersonal relationships; \"to be free from anger, envy, and jealousy\", and to accept even slaves as \"equals of other men, because all men alike are products of nature\".\n",
    "\n",
    "\n",
    "<b> App Development </b>\n",
    "\n",
    "Both Buddhism and Stoicism have many things in common and helps people live better lives. Stoicism and Buddhism both deal with suffering by understanding its role in life and making peace with it - A Buddhist eliminates suffering by detaching himself from his desires. A Stoic eliminates suffering by being indifferent to all external events. Both also believe that practicing meditation or mindfulness are beneficial techniques. Studies have also shown that having mindfulness and meditation are beneficial to a person's mental health. Hence, we hope that users will be able to abide by either philosophy depending on their alignment and improve mental health wellness.\n",
    "\n",
    "To get a sense of the types of people and topics that people have gravitated towards for either philosophies, we will be using the Reddit API to scrape posts from both r/Buddhism and r/Stoicism subreddits as data and apply machine training modelling to allow the app to possibly distinguish the similarities and differences between the types of users who browse such subreddits. We will be aiming to build a classification model and topic modelling system as a start.\n",
    "\n",
    "\n"
   ]
  },
  {
   "cell_type": "markdown",
   "id": "20784194",
   "metadata": {},
   "source": [
    "---\n",
    "\n",
    "# Import Libraries"
   ]
  },
  {
   "cell_type": "markdown",
   "id": "1cdf019e",
   "metadata": {},
   "source": [
    "We will first be importing libraries to help us webscrape the data using the Reddit API.\n"
   ]
  },
  {
   "cell_type": "code",
   "execution_count": 1,
   "id": "24211815",
   "metadata": {},
   "outputs": [],
   "source": [
    "#Import Libraries\n",
    "import requests\n",
    "import pandas as pd\n",
    "import time\n",
    "from random import randint\n",
    "\n"
   ]
  },
  {
   "cell_type": "code",
   "execution_count": 7,
   "id": "475f5782",
   "metadata": {},
   "outputs": [],
   "source": [
    "#Set Pandas Options:\n",
    "\n",
    "pd.set_option(\"display.max_columns\", 500)\n",
    "pd.set_option(\"display.max_rows\", 500)\n",
    "pd.set_option(\"display.max_colwidth\", None)"
   ]
  },
  {
   "cell_type": "markdown",
   "id": "c339c65f",
   "metadata": {},
   "source": [
    "Here, we will be using a function to help us pull datasets from each subreddit. For this, we will be pulling about 10,000 posts from each subreddit before 1st June 2022. Setting a fixed end-date will allow us to keep our datasets standardised whenever we scrape our data. We will only need the subreddit name, title and selftext from the data before adding it to a dataframe."
   ]
  },
  {
   "cell_type": "code",
   "execution_count": 9,
   "id": "242bcb7b",
   "metadata": {},
   "outputs": [],
   "source": [
    "# Function to webscrape data\n",
    "dict = {}\n",
    "# URL to pull reddit submissions\n",
    "submission_url = \"https://api.pushshift.io/reddit/search/submission\"\n",
    "\n",
    "def webscrape(subreddit, size, end_date):\n",
    "    for i in range(1, 101):\n",
    "        if i == 1:\n",
    "            params = {\"subreddit\": subreddit, 'size': size, 'before': end_date}\n",
    "        else:\n",
    "            params = {\"subreddit\": subreddit,\n",
    "                      'size': size, 'before': new_end_date}\n",
    "        res = requests.get(submission_url, params)\n",
    "        time.sleep((randint(5, 10)))\n",
    "        data = res.json()\n",
    "        dat = data['data']\n",
    "        new_end_date = dat[-1]['created_utc']\n",
    "        df_name = subreddit+str(i)\n",
    "        dict[df_name] = pd.DataFrame(\n",
    "            dat, columns=['subreddit', 'title', 'selftext']) #Pulling up the subreddit, title and selftext columns only\n"
   ]
  },
  {
   "cell_type": "code",
   "execution_count": 10,
   "id": "981cf307",
   "metadata": {},
   "outputs": [
    {
     "data": {
      "text/plain": [
       "dict_keys(['Buddhism1', 'Buddhism2', 'Buddhism3', 'Buddhism4', 'Buddhism5', 'Buddhism6', 'Buddhism7', 'Buddhism8', 'Buddhism9', 'Buddhism10', 'Buddhism11', 'Buddhism12', 'Buddhism13', 'Buddhism14', 'Buddhism15', 'Buddhism16', 'Buddhism17', 'Buddhism18', 'Buddhism19', 'Buddhism20', 'Buddhism21', 'Buddhism22', 'Buddhism23', 'Buddhism24', 'Buddhism25', 'Buddhism26', 'Buddhism27', 'Buddhism28', 'Buddhism29', 'Buddhism30', 'Buddhism31', 'Buddhism32', 'Buddhism33', 'Buddhism34', 'Buddhism35', 'Buddhism36', 'Buddhism37', 'Buddhism38', 'Buddhism39', 'Buddhism40', 'Buddhism41', 'Buddhism42', 'Buddhism43', 'Buddhism44', 'Buddhism45', 'Buddhism46', 'Buddhism47', 'Buddhism48', 'Buddhism49', 'Buddhism50', 'Buddhism51', 'Buddhism52', 'Buddhism53', 'Buddhism54', 'Buddhism55', 'Buddhism56', 'Buddhism57', 'Buddhism58', 'Buddhism59', 'Buddhism60', 'Buddhism61', 'Buddhism62', 'Buddhism63', 'Buddhism64', 'Buddhism65', 'Buddhism66', 'Buddhism67', 'Buddhism68', 'Buddhism69', 'Buddhism70', 'Buddhism71', 'Buddhism72', 'Buddhism73', 'Buddhism74', 'Buddhism75', 'Buddhism76', 'Buddhism77', 'Buddhism78', 'Buddhism79', 'Buddhism80', 'Buddhism81', 'Buddhism82', 'Buddhism83', 'Buddhism84', 'Buddhism85', 'Buddhism86', 'Buddhism87', 'Buddhism88', 'Buddhism89', 'Buddhism90', 'Buddhism91', 'Buddhism92', 'Buddhism93', 'Buddhism94', 'Buddhism95', 'Buddhism96', 'Buddhism97', 'Buddhism98', 'Buddhism99', 'Buddhism100', 'Stoicism1', 'Stoicism2', 'Stoicism3', 'Stoicism4', 'Stoicism5', 'Stoicism6', 'Stoicism7', 'Stoicism8', 'Stoicism9', 'Stoicism10', 'Stoicism11', 'Stoicism12', 'Stoicism13', 'Stoicism14', 'Stoicism15', 'Stoicism16', 'Stoicism17', 'Stoicism18', 'Stoicism19', 'Stoicism20', 'Stoicism21', 'Stoicism22', 'Stoicism23', 'Stoicism24', 'Stoicism25', 'Stoicism26', 'Stoicism27', 'Stoicism28', 'Stoicism29', 'Stoicism30', 'Stoicism31', 'Stoicism32', 'Stoicism33', 'Stoicism34', 'Stoicism35', 'Stoicism36', 'Stoicism37', 'Stoicism38', 'Stoicism39', 'Stoicism40', 'Stoicism41', 'Stoicism42', 'Stoicism43', 'Stoicism44', 'Stoicism45', 'Stoicism46', 'Stoicism47', 'Stoicism48', 'Stoicism49', 'Stoicism50', 'Stoicism51', 'Stoicism52', 'Stoicism53', 'Stoicism54', 'Stoicism55', 'Stoicism56', 'Stoicism57', 'Stoicism58', 'Stoicism59', 'Stoicism60', 'Stoicism61', 'Stoicism62', 'Stoicism63', 'Stoicism64', 'Stoicism65', 'Stoicism66', 'Stoicism67', 'Stoicism68', 'Stoicism69', 'Stoicism70', 'Stoicism71', 'Stoicism72', 'Stoicism73', 'Stoicism74', 'Stoicism75', 'Stoicism76', 'Stoicism77', 'Stoicism78', 'Stoicism79', 'Stoicism80', 'Stoicism81', 'Stoicism82', 'Stoicism83', 'Stoicism84', 'Stoicism85', 'Stoicism86', 'Stoicism87', 'Stoicism88', 'Stoicism89', 'Stoicism90', 'Stoicism91', 'Stoicism92', 'Stoicism93', 'Stoicism94', 'Stoicism95', 'Stoicism96', 'Stoicism97', 'Stoicism98', 'Stoicism99', 'Stoicism100'])"
      ]
     },
     "execution_count": 10,
     "metadata": {},
     "output_type": "execute_result"
    }
   ],
   "source": [
    "#Webscrape 10,000 posts from Buddhism and Stoicism Subreddit each\n",
    "webscrape('Buddhism', 100, 1654041600 )\n",
    "\n",
    "webscrape('Stoicism', 100, 1654041600)\n",
    "\n",
    "dict.keys()"
   ]
  },
  {
   "cell_type": "code",
   "execution_count": 11,
   "id": "658e45e1",
   "metadata": {},
   "outputs": [
    {
     "name": "stdout",
     "output_type": "stream",
     "text": [
      "<class 'pandas.core.frame.DataFrame'>\n",
      "RangeIndex: 19979 entries, 0 to 19978\n",
      "Data columns (total 3 columns):\n",
      " #   Column     Non-Null Count  Dtype \n",
      "---  ------     --------------  ----- \n",
      " 0   subreddit  19979 non-null  object\n",
      " 1   title      19979 non-null  object\n",
      " 2   selftext   19972 non-null  object\n",
      "dtypes: object(3)\n",
      "memory usage: 468.4+ KB\n"
     ]
    }
   ],
   "source": [
    "#Subreddit_posts dataframe\n",
    "subreddit_posts = pd.concat(dict.values(), ignore_index= True)\n",
    "subreddit_posts.info()"
   ]
  },
  {
   "cell_type": "markdown",
   "id": "4fdba5f5",
   "metadata": {},
   "source": [
    "We will then be saving our data to a csv file for EDA and modelling in a separate notebook."
   ]
  },
  {
   "cell_type": "code",
   "execution_count": 12,
   "id": "01aa45d8",
   "metadata": {},
   "outputs": [],
   "source": [
    "#Zip to clean CSV\n",
    "\n",
    "subreddit_posts.to_csv(\"subreddit_posts.csv\", index=False)"
   ]
  }
 ],
 "metadata": {
  "kernelspec": {
   "display_name": "Python 3.8.13 ('dsi-sg')",
   "language": "python",
   "name": "python3"
  },
  "language_info": {
   "codemirror_mode": {
    "name": "ipython",
    "version": 3
   },
   "file_extension": ".py",
   "mimetype": "text/x-python",
   "name": "python",
   "nbconvert_exporter": "python",
   "pygments_lexer": "ipython3",
   "version": "3.8.13"
  },
  "vscode": {
   "interpreter": {
    "hash": "615330be42e973d8c7e56de8075153178d55fbfc87e803303fdc83ca1741d1c2"
   }
  }
 },
 "nbformat": 4,
 "nbformat_minor": 5
}
