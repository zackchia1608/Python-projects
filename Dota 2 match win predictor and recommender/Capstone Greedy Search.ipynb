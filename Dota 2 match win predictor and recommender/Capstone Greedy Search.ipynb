{
 "cells": [
  {
   "cell_type": "markdown",
   "metadata": {},
   "source": [
    "<div class=\"div_image pull-right\">\n",
    "    <div class = \"image image_topic pull-right\">\n",
    "        <img src = \"https://i.imgur.com/EGtMXKh.jpg?1\">\n",
    "    </div>\n",
    "</div>\n",
    "\n",
    "# <b>Capstone Project: Predicting Dota 2 Match Wins using Machine Learning and Recommender System (Recommender System)</b>\n"
   ]
  },
  {
   "cell_type": "markdown",
   "metadata": {},
   "source": [
    "# Import Libraries"
   ]
  },
  {
   "cell_type": "code",
   "execution_count": 8,
   "metadata": {},
   "outputs": [],
   "source": [
    "import pandas as pd\n",
    "import tensorflow as tf\n",
    "import numpy as np\n",
    "import tqdm\n",
    "\n",
    "import json\n",
    "\n",
    "import warnings\n",
    "warnings.filterwarnings('ignore')\n"
   ]
  },
  {
   "cell_type": "code",
   "execution_count": 9,
   "metadata": {},
   "outputs": [],
   "source": [
    "# Import heroes data from json file\n",
    "\n",
    "with open('heroes.json', 'r') as fp:\n",
    "    heroes = json.load(fp)\n",
    "    hero_ids = [hero['id'] for hero in heroes]\n",
    "\n",
    "def get_hero_human_readable(hero_id):\n",
    "    for hero in heroes:\n",
    "        if hero['id'] == hero_id:\n",
    "            return hero['localized_name']\n",
    "    return 'Unknown hero: %d' % hero_id\n"
   ]
  },
  {
   "cell_type": "code",
   "execution_count": 15,
   "metadata": {},
   "outputs": [],
   "source": [
    "#Store Variables that may change\n",
    "FINAL_HERO_ID = hero_ids[-1]\n",
    "NUM_FEATURES = FINAL_HERO_ID * 2\n",
    "ENV_PATH = 'model.h5'\n",
    "radiant_team = [45, 39, 87, 66]\n",
    "dire_team = [4, 5, 13,99, 75]\n",
    "\n",
    "missing_ids = []\n",
    "for num in range(0, FINAL_HERO_ID):\n",
    "    if num not in hero_ids:\n",
    "        missing_ids.append(num)\n"
   ]
  },
  {
   "cell_type": "code",
   "execution_count": 11,
   "metadata": {},
   "outputs": [],
   "source": [
    "class NNPredictor:\n",
    "    '''Load Model from the environment path for us to train'''\n",
    "    def __init__(self, env_path = ENV_PATH):\n",
    "        self.model = tf.keras.models.load_model(env_path)\n",
    "\n",
    "    def transform(self, my_team, their_team):\n",
    "        '''Transform our inputs into the tensorflow input array of shape (1, 246). Slice list of IDs from heroes list '''\n",
    "        X = np.zeros((1, (NUM_FEATURES+1)))\n",
    "        '''Slice hero_id chosen onto the array, add number of heroes to hero_id for dire team'''\n",
    "        for hero_id in my_team:\n",
    "            X[0][(hero_id)] = 1\n",
    "        for hero_id in their_team:\n",
    "            X[0][(hero_id + FINAL_HERO_ID)] = 1\n",
    "        \n",
    "        missing_ids = []\n",
    "        for num in range(0, FINAL_HERO_ID):\n",
    "            if num not in hero_ids:\n",
    "                 missing_ids.append(num)\n",
    "        \n",
    "        dire_ids = []\n",
    "        for id in missing_ids:\n",
    "            if id > 0:\n",
    "                dire_id = id + FINAL_HERO_ID\n",
    "                dire_ids.append(dire_id)\n",
    "\n",
    "        missing_ids = missing_ids + dire_ids\n",
    "\n",
    "        X = np.delete(X, missing_ids, axis=1)\n",
    "        return X\n",
    "\n",
    "    def recommend(self, my_team, their_team, hero_candidates):\n",
    "        team_possibilities = [(candidate, my_team + [candidate]) for candidate in hero_candidates]\n",
    "\n",
    "        prob_candidate_pairs = []\n",
    "        for candidate, team in team_possibilities:\n",
    "            query = self.transform(team, their_team)\n",
    "            prob = self.score(query)\n",
    "            prob_candidate_pairs.append((prob, candidate))\n",
    "        prob_candidate_pairs = sorted(prob_candidate_pairs, reverse = True)[0:5]\n",
    "        return prob_candidate_pairs\n",
    "\n",
    "    def score(self,query):\n",
    "        rad_prob_1 = self.model.predict(query, verbose = False)[0][0]\n",
    "        return rad_prob_1\n",
    "\n",
    "    def predict(self, dream_team, their_team):\n",
    "        '''Returns the probability of the dream_team winning against their_team.'''\n",
    "        dream_team_query = self.transform(dream_team, their_team)\n",
    "        return self.score(dream_team_query)\n"
   ]
  },
  {
   "cell_type": "code",
   "execution_count": 12,
   "metadata": {},
   "outputs": [],
   "source": [
    "def main():\n",
    "    my_team = radiant_team\n",
    "    their_team = dire_team\n",
    "    print (f'My Team: {[get_hero_human_readable(hero_id) for hero_id in my_team]}')\n",
    "    print (f'Their Team:{[get_hero_human_readable(hero_id) for hero_id in their_team]}')\n",
    "    print ('Recommend:')\n",
    "\n",
    "    engine = Engine(NNPredictor())\n",
    "    recommendations = engine.recommend(my_team, their_team)\n",
    "    print(f'{[(prob, get_hero_human_readable(hero))for prob, hero in recommendations]}')"
   ]
  },
  {
   "cell_type": "code",
   "execution_count": 13,
   "metadata": {},
   "outputs": [],
   "source": [
    "class Engine:\n",
    "\n",
    "    def __init__(self, algorithm):\n",
    "        self.algorithm = algorithm\n",
    "\n",
    "    def get_candidates(self, my_team, their_team):\n",
    "        '''Return a list of hero_IDs to consider for recommending'''\n",
    "        ids = [i for i in hero_ids if i not in my_team and i not in their_team and i not in missing_ids]\n",
    "        return ids\n",
    "\n",
    "    def recommend(self, my_team, their_team, human_readable = False):\n",
    "        '''Return a list of (hero, probability of winning with hero_added) recommend to complete my_team'''\n",
    "\n",
    "        assert len(my_team) < 5, \"Your team is full! Please remove a hero from your team.\"\n",
    "        assert len(their_team) <= 5\n",
    "\n",
    "        hero_candidates = self.get_candidates(my_team, their_team)\n",
    "        return self.algorithm.recommend(my_team, their_team, hero_candidates)\n",
    "\n",
    "    def predict(self, dream_team, their_team):\n",
    "        '''Return the probability of the dream_team winning against their team'''\n",
    "        return self.algorithm.predict(dream_team, their_team)\n",
    "\n"
   ]
  },
  {
   "cell_type": "code",
   "execution_count": 16,
   "metadata": {},
   "outputs": [
    {
     "name": "stdout",
     "output_type": "stream",
     "text": [
      "My Team: ['Pugna', 'Queen of Pain', 'Disruptor', 'Chen']\n",
      "Their Team:['Bloodseeker', 'Crystal Maiden', 'Puck', 'Bristleback', 'Silencer']\n",
      "Recommend:\n",
      "[(0.6018949, 'Visage'), (0.57422984, 'Bane'), (0.5728478, 'Winter Wyvern'), (0.56636196, 'Meepo'), (0.56110424, 'Broodmother')]\n"
     ]
    }
   ],
   "source": [
    "if __name__ == '__main__':\n",
    "    main()"
   ]
  }
 ],
 "metadata": {
  "kernelspec": {
   "display_name": "Python 3.9.7 ('gpu2')",
   "language": "python",
   "name": "python3"
  },
  "language_info": {
   "codemirror_mode": {
    "name": "ipython",
    "version": 3
   },
   "file_extension": ".py",
   "mimetype": "text/x-python",
   "name": "python",
   "nbconvert_exporter": "python",
   "pygments_lexer": "ipython3",
   "version": "3.9.7"
  },
  "orig_nbformat": 4,
  "vscode": {
   "interpreter": {
    "hash": "1c5f7932c9bad284bfb1f032b745153074d382c6f8d94f2e8b200b22955e97eb"
   }
  }
 },
 "nbformat": 4,
 "nbformat_minor": 2
}
