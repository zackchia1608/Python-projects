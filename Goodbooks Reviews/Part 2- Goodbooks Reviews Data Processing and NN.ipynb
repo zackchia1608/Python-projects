{
 "cells": [
  {
   "cell_type": "markdown",
   "metadata": {},
   "source": [
    "# Importing Libraries"
   ]
  },
  {
   "cell_type": "code",
   "execution_count": 159,
   "metadata": {},
   "outputs": [],
   "source": [
    "import pandas as pd\n",
    "import matplotlib.pyplot as plt\n",
    "import numpy as np\n",
    "import seaborn as sns\n",
    "\n",
    "from tqdm.notebook import tqdm_notebook\n",
    "\n",
    "import re\n",
    "\n",
    "import tensorflow as tf\n",
    "from tensorflow import keras\n",
    "from tensorflow.keras import Input\n",
    "from tensorflow.keras.layers import Embedding, Bidirectional, LSTM, concatenate, Dense\n",
    "from tensorflow.keras.models import Model\n",
    "from tensorflow.keras.optimizers import Adam\n",
    "from tensorflow.keras.utils import to_categorical\n",
    "from tensorflow.keras.preprocessing.text import Tokenizer\n",
    "from tensorflow.keras.preprocessing.sequence import pad_sequences\n",
    "\n",
    "\n",
    "from sklearn.model_selection import train_test_split\n",
    "from sklearn.metrics import accuracy_score, precision_score, recall_score, f1_score, confusion_matrix, classification_report\n"
   ]
  },
  {
   "cell_type": "code",
   "execution_count": 2,
   "metadata": {},
   "outputs": [],
   "source": [
    "#Importing csv files\n",
    "train_preprocessed_df = pd.read_csv('train_preprocessed.csv')\n",
    "\n",
    "test_preprocessed_df = pd.read_csv('test_preprocessed.csv')\n"
   ]
  },
  {
   "cell_type": "code",
   "execution_count": 3,
   "metadata": {},
   "outputs": [],
   "source": [
    "train_preprocessed_df[\"sentiment_type\"] = \"\"\n",
    "\n",
    "train_preprocessed_df[\"sentiment_score\"] = \"\"\n"
   ]
  },
  {
   "cell_type": "code",
   "execution_count": 4,
   "metadata": {},
   "outputs": [
    {
     "data": {
      "application/vnd.jupyter.widget-view+json": {
       "model_id": "a17c16d39f014924b8c91c2102a7e0c9",
       "version_major": 2,
       "version_minor": 0
      },
      "text/plain": [
       "  0%|          | 0/900000 [00:00<?, ?it/s]"
      ]
     },
     "metadata": {},
     "output_type": "display_data"
    },
    {
     "name": "stderr",
     "output_type": "stream",
     "text": [
      "/var/folders/sz/qlhtygjx661flzpy8w5byj240000gn/T/ipykernel_36438/787248330.py:6: SettingWithCopyWarning: \n",
      "A value is trying to be set on a copy of a slice from a DataFrame\n",
      "\n",
      "See the caveats in the documentation: https://pandas.pydata.org/pandas-docs/stable/user_guide/indexing.html#returning-a-view-versus-a-copy\n",
      "  train_preprocessed_df[\"sentiment_type\"][index] = x.group()\n",
      "/var/folders/sz/qlhtygjx661flzpy8w5byj240000gn/T/ipykernel_36438/787248330.py:7: SettingWithCopyWarning: \n",
      "A value is trying to be set on a copy of a slice from a DataFrame\n",
      "\n",
      "See the caveats in the documentation: https://pandas.pydata.org/pandas-docs/stable/user_guide/indexing.html#returning-a-view-versus-a-copy\n",
      "  train_preprocessed_df[\"sentiment_score\"][index] = y.group()\n"
     ]
    }
   ],
   "source": [
    "# Extract sentiment and sentiment score\n",
    "for index in tqdm_notebook(range(0, len(train_preprocessed_df))):\n",
    "    txt = train_preprocessed_df['sentiment'][index]\n",
    "    x = re.search(\"([A-Z])\\w+\", txt)\n",
    "    y = re.search('[0-9]+.+[0-9]', txt)\n",
    "    train_preprocessed_df[\"sentiment_type\"][index] = x.group()\n",
    "    train_preprocessed_df[\"sentiment_score\"][index] = y.group()\n"
   ]
  },
  {
   "cell_type": "code",
   "execution_count": 5,
   "metadata": {},
   "outputs": [
    {
     "data": {
      "text/html": [
       "<div>\n",
       "<style scoped>\n",
       "    .dataframe tbody tr th:only-of-type {\n",
       "        vertical-align: middle;\n",
       "    }\n",
       "\n",
       "    .dataframe tbody tr th {\n",
       "        vertical-align: top;\n",
       "    }\n",
       "\n",
       "    .dataframe thead th {\n",
       "        text-align: right;\n",
       "    }\n",
       "</style>\n",
       "<table border=\"1\" class=\"dataframe\">\n",
       "  <thead>\n",
       "    <tr style=\"text-align: right;\">\n",
       "      <th></th>\n",
       "      <th>rating</th>\n",
       "      <th>review_text</th>\n",
       "      <th>sentiment_type</th>\n",
       "      <th>sentiment_score</th>\n",
       "    </tr>\n",
       "  </thead>\n",
       "  <tbody>\n",
       "    <tr>\n",
       "      <th>0</th>\n",
       "      <td>5</td>\n",
       "      <td>This is a special book. It started slow for ab...</td>\n",
       "      <td>Positive</td>\n",
       "      <td>0.9337596297264099</td>\n",
       "    </tr>\n",
       "    <tr>\n",
       "      <th>1</th>\n",
       "      <td>3</td>\n",
       "      <td>Recommended by Don Katz. Avail for free in Dec...</td>\n",
       "      <td>Neutral</td>\n",
       "      <td>0.706608772277832</td>\n",
       "    </tr>\n",
       "    <tr>\n",
       "      <th>2</th>\n",
       "      <td>3</td>\n",
       "      <td>A fun, fast paced science fiction thriller. I ...</td>\n",
       "      <td>Positive</td>\n",
       "      <td>0.8272868990898132</td>\n",
       "    </tr>\n",
       "    <tr>\n",
       "      <th>3</th>\n",
       "      <td>0</td>\n",
       "      <td>Recommended reading to understand what is goin...</td>\n",
       "      <td>Neutral</td>\n",
       "      <td>0.6522879004478455</td>\n",
       "    </tr>\n",
       "    <tr>\n",
       "      <th>4</th>\n",
       "      <td>4</td>\n",
       "      <td>I really enjoyed this book, and there is a lot...</td>\n",
       "      <td>Positive</td>\n",
       "      <td>0.897430419921875</td>\n",
       "    </tr>\n",
       "  </tbody>\n",
       "</table>\n",
       "</div>"
      ],
      "text/plain": [
       "   rating                                        review_text sentiment_type  \\\n",
       "0       5  This is a special book. It started slow for ab...       Positive   \n",
       "1       3  Recommended by Don Katz. Avail for free in Dec...        Neutral   \n",
       "2       3  A fun, fast paced science fiction thriller. I ...       Positive   \n",
       "3       0  Recommended reading to understand what is goin...        Neutral   \n",
       "4       4  I really enjoyed this book, and there is a lot...       Positive   \n",
       "\n",
       "      sentiment_score  \n",
       "0  0.9337596297264099  \n",
       "1   0.706608772277832  \n",
       "2  0.8272868990898132  \n",
       "3  0.6522879004478455  \n",
       "4   0.897430419921875  "
      ]
     },
     "execution_count": 5,
     "metadata": {},
     "output_type": "execute_result"
    }
   ],
   "source": [
    "#Drop unrelated columns\n",
    "train_preprocessed_df = train_preprocessed_df.drop(\n",
    "    columns=['user_id', 'book_id', 'review_id', 'date_added', 'date_updated', 'read_at', 'started_at', 'n_comments', 'sentiment', 'n_votes'])\n",
    "\n",
    "train_preprocessed_df.head()\n"
   ]
  },
  {
   "cell_type": "code",
   "execution_count": 6,
   "metadata": {},
   "outputs": [],
   "source": [
    "#Convert sentiment score to float\n",
    "train_preprocessed_df['sentiment_score'] = train_preprocessed_df['sentiment_score'].astype(\n",
    "    float)\n"
   ]
  },
  {
   "cell_type": "code",
   "execution_count": 7,
   "metadata": {},
   "outputs": [
    {
     "data": {
      "text/html": [
       "<div>\n",
       "<style scoped>\n",
       "    .dataframe tbody tr th:only-of-type {\n",
       "        vertical-align: middle;\n",
       "    }\n",
       "\n",
       "    .dataframe tbody tr th {\n",
       "        vertical-align: top;\n",
       "    }\n",
       "\n",
       "    .dataframe thead th {\n",
       "        text-align: right;\n",
       "    }\n",
       "</style>\n",
       "<table border=\"1\" class=\"dataframe\">\n",
       "  <thead>\n",
       "    <tr style=\"text-align: right;\">\n",
       "      <th></th>\n",
       "      <th>rating</th>\n",
       "      <th>review_text</th>\n",
       "      <th>sentiment_type</th>\n",
       "      <th>sentiment_score</th>\n",
       "    </tr>\n",
       "  </thead>\n",
       "  <tbody>\n",
       "    <tr>\n",
       "      <th>0</th>\n",
       "      <td>5</td>\n",
       "      <td>This is a special book. It started slow for ab...</td>\n",
       "      <td>Positive</td>\n",
       "      <td>0.933760</td>\n",
       "    </tr>\n",
       "    <tr>\n",
       "      <th>1</th>\n",
       "      <td>3</td>\n",
       "      <td>Recommended by Don Katz. Avail for free in Dec...</td>\n",
       "      <td>Neutral</td>\n",
       "      <td>0.706609</td>\n",
       "    </tr>\n",
       "    <tr>\n",
       "      <th>2</th>\n",
       "      <td>3</td>\n",
       "      <td>A fun, fast paced science fiction thriller. I ...</td>\n",
       "      <td>Positive</td>\n",
       "      <td>0.827287</td>\n",
       "    </tr>\n",
       "    <tr>\n",
       "      <th>3</th>\n",
       "      <td>0</td>\n",
       "      <td>Recommended reading to understand what is goin...</td>\n",
       "      <td>Neutral</td>\n",
       "      <td>0.652288</td>\n",
       "    </tr>\n",
       "    <tr>\n",
       "      <th>4</th>\n",
       "      <td>4</td>\n",
       "      <td>I really enjoyed this book, and there is a lot...</td>\n",
       "      <td>Positive</td>\n",
       "      <td>0.897430</td>\n",
       "    </tr>\n",
       "  </tbody>\n",
       "</table>\n",
       "</div>"
      ],
      "text/plain": [
       "   rating                                        review_text sentiment_type  \\\n",
       "0       5  This is a special book. It started slow for ab...       Positive   \n",
       "1       3  Recommended by Don Katz. Avail for free in Dec...        Neutral   \n",
       "2       3  A fun, fast paced science fiction thriller. I ...       Positive   \n",
       "3       0  Recommended reading to understand what is goin...        Neutral   \n",
       "4       4  I really enjoyed this book, and there is a lot...       Positive   \n",
       "\n",
       "   sentiment_score  \n",
       "0         0.933760  \n",
       "1         0.706609  \n",
       "2         0.827287  \n",
       "3         0.652288  \n",
       "4         0.897430  "
      ]
     },
     "execution_count": 7,
     "metadata": {},
     "output_type": "execute_result"
    }
   ],
   "source": [
    "train_preprocessed_df.head()\n"
   ]
  },
  {
   "cell_type": "code",
   "execution_count": 8,
   "metadata": {},
   "outputs": [],
   "source": [
    "#Map to ordinal values\n",
    "train_preprocessed_df['sentiment_type'] = train_preprocessed_df['sentiment_type'].map({'Positive': 3, 'Neutral': 2, 'Negative': 1})"
   ]
  },
  {
   "cell_type": "code",
   "execution_count": 43,
   "metadata": {},
   "outputs": [
    {
     "data": {
      "text/plain": [
       "319.0"
      ]
     },
     "execution_count": 43,
     "metadata": {},
     "output_type": "execute_result"
    }
   ],
   "source": [
    "#90 percentile of words in each row for sequencing\n",
    "train_preprocessed_df['review_text'].str.split().str.len().quantile(0.80)"
   ]
  },
  {
   "cell_type": "code",
   "execution_count": 10,
   "metadata": {},
   "outputs": [],
   "source": [
    "# Find sentiment score\n",
    "train_preprocessed_df['sentiment_score'] = train_preprocessed_df['sentiment_type'] * train_preprocessed_df['sentiment_score']"
   ]
  },
  {
   "cell_type": "markdown",
   "metadata": {},
   "source": [
    "# Create Tensorflow Model"
   ]
  },
  {
   "cell_type": "code",
   "execution_count": 81,
   "metadata": {},
   "outputs": [],
   "source": [
    "#Train-test-split\n",
    "X = train_preprocessed_df.drop(columns = ['rating'])\n",
    "y = train_preprocessed_df['rating']\n",
    "\n",
    "y= to_categorical(y)"
   ]
  },
  {
   "cell_type": "code",
   "execution_count": 82,
   "metadata": {},
   "outputs": [],
   "source": [
    "X_train, X_val, y_train, y_val = train_test_split(X, y , random_state = 42, test_size = 0.2)"
   ]
  },
  {
   "cell_type": "code",
   "execution_count": 83,
   "metadata": {},
   "outputs": [
    {
     "name": "stdout",
     "output_type": "stream",
     "text": [
      "0.26095257562500007\n"
     ]
    }
   ],
   "source": [
    "#Calculate baseline accuracy\n",
    "\n",
    "baseline_accuracy = 0.348704**2 + 0.2942**2 + 0.20995**2 + 0.080728**2 + 0.034399**2 + 0.032018**2\n",
    "\n",
    "print(baseline_accuracy)"
   ]
  },
  {
   "cell_type": "markdown",
   "metadata": {},
   "source": [
    "Our baseline accuracy is 26.1%. The Zero R is 34.9%. Our model will need to be above these accuracy values in order to add value."
   ]
  },
  {
   "cell_type": "markdown",
   "metadata": {},
   "source": [
    "First, we separate the text data from the numeric data."
   ]
  },
  {
   "cell_type": "code",
   "execution_count": 84,
   "metadata": {},
   "outputs": [],
   "source": [
    "review_train = X_train['review_text']\n",
    "review_val = X_val['review_text']\n",
    "\n",
    "numeric_train = X_train.drop(columns = ['review_text']).to_numpy()\n",
    "numeric_val = X_val.drop(columns = ['review_text']).to_numpy()"
   ]
  },
  {
   "cell_type": "markdown",
   "metadata": {},
   "source": [
    "Next, we have to tokenize our text into sequences."
   ]
  },
  {
   "cell_type": "code",
   "execution_count": 86,
   "metadata": {},
   "outputs": [
    {
     "name": "stdout",
     "output_type": "stream",
     "text": [
      "Found 304768 unique tokens.\n",
      "Shape of data train tensor: (720000, 319)\n",
      "Shape of data val tensor: (180000, 319)\n"
     ]
    }
   ],
   "source": [
    "MAX_VOCAB_SIZE = 100000\n",
    "MAX_SEQUENCE_LENGTH = 319 #80% of documents are 319 words and below\n",
    "tokenizer = Tokenizer(num_words=MAX_VOCAB_SIZE)\n",
    "tokenizer.fit_on_texts(review_train)\n",
    "sequences_train = tokenizer.texts_to_sequences(review_train)\n",
    "sequences_val = tokenizer.texts_to_sequences(review_val)\n",
    "\n",
    "word2idx = tokenizer.word_index\n",
    "V = len(word2idx)\n",
    "print('Found %s unique tokens.' % V)\n",
    "\n",
    "nlp_train = pad_sequences(sequences_train, maxlen=MAX_SEQUENCE_LENGTH, padding= 'post', truncating = 'post')\n",
    "print('Shape of data train tensor:', nlp_train.shape)\n",
    "\n",
    "T = nlp_train.shape[1]\n",
    "\n",
    "nlp_val = pad_sequences(sequences_val, maxlen=T, padding = 'post', truncating = 'post')\n",
    "print('Shape of data val tensor:', nlp_val.shape)"
   ]
  },
  {
   "cell_type": "code",
   "execution_count": 87,
   "metadata": {},
   "outputs": [],
   "source": [
    "# Choosing embedding dimensionality\n",
    "D = 24\n"
   ]
  },
  {
   "cell_type": "code",
   "execution_count": 88,
   "metadata": {},
   "outputs": [],
   "source": [
    "tf.config.set_visible_devices([], 'GPU')"
   ]
  },
  {
   "cell_type": "code",
   "execution_count": 145,
   "metadata": {},
   "outputs": [],
   "source": [
    "#Creating tensorflow model\n",
    "nlp_input = Input(shape = (MAX_SEQUENCE_LENGTH, ), name = 'nlp_input')\n",
    "meta_input = Input(shape = (2,), name = 'meta_input')\n",
    "\n",
    "\n",
    "embedding_layer = Embedding(V+1, D)(nlp_input)\n",
    "nlp_out= Bidirectional(LSTM(128, dropout = 0.2, recurrent_dropout= 0.2))(embedding_layer)\n",
    "\n",
    "concat_layer = concatenate([nlp_out, meta_input])\n",
    "\n",
    "hidden_layer_1 = Dense(128, activation = 'relu')(concat_layer)\n",
    "\n",
    "output_layer = Dense(6, activation = 'softmax')(hidden_layer_1)\n",
    "\n",
    "model = Model(inputs = [nlp_input, meta_input], outputs = output_layer)\n",
    "\n",
    "opt = Adam(learning_rate=0.0002)\n",
    "model.compile(loss='categorical_crossentropy', optimizer=opt, metrics=['accuracy'])\n"
   ]
  },
  {
   "cell_type": "code",
   "execution_count": 146,
   "metadata": {},
   "outputs": [
    {
     "name": "stdout",
     "output_type": "stream",
     "text": [
      "Model: \"model_23\"\n",
      "__________________________________________________________________________________________________\n",
      " Layer (type)                   Output Shape         Param #     Connected to                     \n",
      "==================================================================================================\n",
      " nlp_input (InputLayer)         [(None, 319)]        0           []                               \n",
      "                                                                                                  \n",
      " embedding_23 (Embedding)       (None, 319, 24)      7314456     ['nlp_input[0][0]']              \n",
      "                                                                                                  \n",
      " bidirectional_11 (Bidirectiona  (None, 256)         156672      ['embedding_23[0][0]']           \n",
      " l)                                                                                               \n",
      "                                                                                                  \n",
      " meta_input (InputLayer)        [(None, 2)]          0           []                               \n",
      "                                                                                                  \n",
      " concatenate_23 (Concatenate)   (None, 258)          0           ['bidirectional_11[0][0]',       \n",
      "                                                                  'meta_input[0][0]']             \n",
      "                                                                                                  \n",
      " dense_46 (Dense)               (None, 128)          33152       ['concatenate_23[0][0]']         \n",
      "                                                                                                  \n",
      " dense_47 (Dense)               (None, 6)            774         ['dense_46[0][0]']               \n",
      "                                                                                                  \n",
      "==================================================================================================\n",
      "Total params: 7,505,054\n",
      "Trainable params: 7,505,054\n",
      "Non-trainable params: 0\n",
      "__________________________________________________________________________________________________\n"
     ]
    }
   ],
   "source": [
    "model.summary()"
   ]
  },
  {
   "cell_type": "code",
   "execution_count": 147,
   "metadata": {},
   "outputs": [],
   "source": [
    "stop_early = tf.keras.callbacks.EarlyStopping(monitor='val_accuracy', patience=3)"
   ]
  },
  {
   "cell_type": "code",
   "execution_count": 149,
   "metadata": {},
   "outputs": [
    {
     "name": "stdout",
     "output_type": "stream",
     "text": [
      "Epoch 1/100\n",
      "1000/1000 [==============================] - 2929s 3s/step - loss: 1.2649 - accuracy: 0.4550 - val_loss: 1.1465 - val_accuracy: 0.5054\n",
      "Epoch 2/100\n",
      "1000/1000 [==============================] - 2904s 3s/step - loss: 1.1024 - accuracy: 0.5266 - val_loss: 1.0854 - val_accuracy: 0.5324\n",
      "Epoch 3/100\n",
      "1000/1000 [==============================] - 2893s 3s/step - loss: 1.0665 - accuracy: 0.5419 - val_loss: 1.0746 - val_accuracy: 0.5389\n",
      "Epoch 4/100\n",
      "1000/1000 [==============================] - 2886s 3s/step - loss: 1.0491 - accuracy: 0.5502 - val_loss: 1.0721 - val_accuracy: 0.5383\n",
      "Epoch 5/100\n",
      "1000/1000 [==============================] - 2884s 3s/step - loss: 1.0334 - accuracy: 0.5585 - val_loss: 1.0680 - val_accuracy: 0.5397\n",
      "Epoch 6/100\n",
      "1000/1000 [==============================] - 2887s 3s/step - loss: 1.0195 - accuracy: 0.5648 - val_loss: 1.0657 - val_accuracy: 0.5429\n",
      "Epoch 7/100\n",
      "1000/1000 [==============================] - 2907s 3s/step - loss: 1.0054 - accuracy: 0.5726 - val_loss: 1.0641 - val_accuracy: 0.5422\n",
      "Epoch 8/100\n",
      "1000/1000 [==============================] - 2893s 3s/step - loss: 0.9926 - accuracy: 0.5787 - val_loss: 1.0617 - val_accuracy: 0.5444\n",
      "Epoch 9/100\n",
      "1000/1000 [==============================] - 2895s 3s/step - loss: 0.9811 - accuracy: 0.5841 - val_loss: 1.0720 - val_accuracy: 0.5392\n",
      "Epoch 10/100\n",
      "1000/1000 [==============================] - 2886s 3s/step - loss: 0.9706 - accuracy: 0.5893 - val_loss: 1.0677 - val_accuracy: 0.5434\n",
      "Epoch 11/100\n",
      "1000/1000 [==============================] - 2884s 3s/step - loss: 0.9600 - accuracy: 0.5949 - val_loss: 1.0769 - val_accuracy: 0.5404\n"
     ]
    }
   ],
   "source": [
    "#Plotting training model\n",
    "model_1 = model.fit([nlp_train,numeric_train], y_train, validation_data = ([nlp_val, numeric_val], y_val), batch_size = 720, epochs = 100, callbacks = [stop_early])"
   ]
  },
  {
   "cell_type": "code",
   "execution_count": 150,
   "metadata": {},
   "outputs": [],
   "source": [
    "def evaluate_preds(y_true, y_preds):\n",
    "    \"\"\"\n",
    "    Performs evaluation comparison on y_true labels vs. y_pred labels\n",
    "    on a classification.\n",
    "    \"\"\"\n",
    "    accuracy = accuracy_score(y_true, y_preds)\n",
    "    precision = precision_score(y_true, y_preds, average='micro')\n",
    "    recall = recall_score(y_true, y_preds, average='micro')\n",
    "    f1 = f1_score(y_true, y_preds, average='micro')\n",
    "    metric_dict = {\"accuracy\": round(accuracy, 2),\n",
    "                   \"precision\": round(precision, 2),\n",
    "                   \"recall\": round(recall, 2),\n",
    "                   \"f1\": round(f1, 2)}\n",
    "    print(f\"Acc: {accuracy * 100:.2f}%\")\n",
    "    print(f\"Precision: {precision* 100:.2f}\")\n",
    "    print(f\"Recall: {recall * 100:.2f}\")\n",
    "    print(f\"F1 score: {f1*100:.2f}\")\n",
    "    \n",
    "    return metric_dict\n"
   ]
  },
  {
   "cell_type": "code",
   "execution_count": 151,
   "metadata": {},
   "outputs": [
    {
     "data": {
      "image/png": "[encoded data removed]",
      "text/plain": [
       "<Figure size 432x288 with 1 Axes>"
      ]
     },
     "metadata": {
      "needs_background": "light"
     },
     "output_type": "display_data"
    }
   ],
   "source": [
    "plt.title('Loss')\n",
    "plt.plot(model_1.history['loss'], label='train')\n",
    "plt.plot(model_1.history['val_loss'], label='val')\n",
    "plt.legend()\n",
    "plt.show();\n"
   ]
  },
  {
   "cell_type": "code",
   "execution_count": 152,
   "metadata": {},
   "outputs": [
    {
     "data": {
      "image/png": "[encoded data removed]",
      "text/plain": [
       "<Figure size 432x288 with 1 Axes>"
      ]
     },
     "metadata": {
      "needs_background": "light"
     },
     "output_type": "display_data"
    }
   ],
   "source": [
    "plt.title('Accuracy')\n",
    "plt.plot(model_1.history['accuracy'], label='train')\n",
    "plt.plot(model_1.history['val_accuracy'], label='val')\n",
    "plt.legend()\n",
    "plt.show();\n"
   ]
  },
  {
   "cell_type": "code",
   "execution_count": 153,
   "metadata": {},
   "outputs": [],
   "source": [
    "predicted = model.predict([nlp_val, numeric_val])"
   ]
  },
  {
   "cell_type": "code",
   "execution_count": 154,
   "metadata": {},
   "outputs": [
    {
     "name": "stdout",
     "output_type": "stream",
     "text": [
      "[[5.1004946e-02 1.1298710e-02 4.3444380e-02 1.8464075e-01 3.8341057e-01\n",
      "  3.2620060e-01]\n",
      " [1.2708156e-03 1.4244727e-04 2.4466265e-03 7.6800302e-02 4.9668917e-01\n",
      "  4.2265067e-01]\n",
      " [9.3759829e-03 3.8712742e-03 6.1243046e-02 4.4324780e-01 4.3675604e-01\n",
      "  4.5505863e-02]\n",
      " ...\n",
      " [7.6350743e-01 3.0959347e-02 2.8673349e-02 4.0369917e-02 6.3175544e-02\n",
      "  7.3314466e-02]\n",
      " [3.8022229e-03 1.0084298e-03 1.4388774e-02 1.8445271e-01 5.8761454e-01\n",
      "  2.0873325e-01]\n",
      " [3.1136845e-03 1.4870318e-04 1.5535406e-04 7.9202210e-04 3.2344174e-02\n",
      "  9.6344602e-01]]\n"
     ]
    }
   ],
   "source": [
    "print(predicted)"
   ]
  },
  {
   "cell_type": "code",
   "execution_count": 155,
   "metadata": {},
   "outputs": [
    {
     "name": "stdout",
     "output_type": "stream",
     "text": [
      "Acc: 54.04%\n",
      "Precision: 0.54\n",
      "Recall: 0.54\n",
      "F1 score: 0.54\n"
     ]
    },
    {
     "data": {
      "text/plain": [
       "{'accuracy': 0.54, 'precision': 0.54, 'recall': 0.54, 'f1': 0.54}"
      ]
     },
     "execution_count": 155,
     "metadata": {},
     "output_type": "execute_result"
    }
   ],
   "source": [
    "#Plot classification metrics\n",
    "evaluate_preds(np.argmax(y_val, axis=1), np.argmax(predicted, axis=1))\n"
   ]
  },
  {
   "cell_type": "code",
   "execution_count": 160,
   "metadata": {},
   "outputs": [
    {
     "data": {
      "image/png": "[encoded data removed]",
      "text/plain": [
       "<Figure size 576x432 with 2 Axes>"
      ]
     },
     "metadata": {
      "needs_background": "light"
     },
     "output_type": "display_data"
    }
   ],
   "source": [
    "#Plot confusion matrix\n",
    "\n",
    "conf_mat = confusion_matrix(np.argmax(y_val, axis=1), np.argmax(predicted, axis=1))\n",
    "fig, ax = plt.subplots(figsize=(8,6))\n",
    "sns.heatmap(conf_mat, annot=True, fmt='d',\n",
    "            xticklabels=train_preprocessed_df['rating'].unique(), yticklabels=train_preprocessed_df['rating'].unique())\n",
    "plt.ylabel('Actual')\n",
    "plt.xlabel('Predicted')\n",
    "plt.show()\n"
   ]
  },
  {
   "cell_type": "code",
   "execution_count": 165,
   "metadata": {},
   "outputs": [
    {
     "name": "stdout",
     "output_type": "stream",
     "text": [
      "              precision    recall  f1-score   support\n",
      "\n",
      "           0       0.56      0.32      0.41      6221\n",
      "           1       0.45      0.33      0.38      5665\n",
      "           2       0.41      0.40      0.41     14502\n",
      "           3       0.49      0.42      0.45     37808\n",
      "           4       0.52      0.56      0.54     62621\n",
      "           5       0.62      0.69      0.65     53183\n",
      "\n",
      "    accuracy                           0.54    180000\n",
      "   macro avg       0.51      0.45      0.47    180000\n",
      "weighted avg       0.54      0.54      0.54    180000\n",
      "\n"
     ]
    }
   ],
   "source": [
    "#Show classification report\n",
    "print(classification_report(np.argmax(y_val, axis=1), np.argmax(predicted, axis=1)))\n"
   ]
  },
  {
   "cell_type": "code",
   "execution_count": 170,
   "metadata": {},
   "outputs": [
    {
     "data": {
      "text/plain": [
       "4    0.348542\n",
       "5    0.294452\n",
       "3    0.209969\n",
       "2    0.080697\n",
       "0    0.034431\n",
       "1    0.031909\n",
       "Name: rating, dtype: float64"
      ]
     },
     "execution_count": 170,
     "metadata": {},
     "output_type": "execute_result"
    }
   ],
   "source": [
    "train_preprocessed_df['rating'].value_counts(normalize=True)"
   ]
  },
  {
   "cell_type": "code",
   "execution_count": 168,
   "metadata": {},
   "outputs": [
    {
     "name": "stdout",
     "output_type": "stream",
     "text": [
      "Found 341565 unique tokens.\n",
      "Shape of data train tensor: (900000, 319)\n"
     ]
    }
   ],
   "source": [
    "review = X['review_text']\n",
    "numeric = X.drop(columns = ['review_text']).to_numpy()\n",
    "\n",
    "MAX_VOCAB_SIZE = 100000\n",
    "MAX_SEQUENCE_LENGTH = 319 #80% of documents are 319 words and below\n",
    "tokenizer = Tokenizer(num_words=MAX_VOCAB_SIZE)\n",
    "tokenizer.fit_on_texts(review)\n",
    "sequences = tokenizer.texts_to_sequences(review)\n",
    "\n",
    "word2idx = tokenizer.word_index\n",
    "V = len(word2idx)\n",
    "print('Found %s unique tokens.' % V)\n",
    "\n",
    "nlp = pad_sequences(sequences, maxlen=MAX_SEQUENCE_LENGTH, padding= 'post', truncating = 'post')\n",
    "print('Shape of data train tensor:', nlp.shape)\n"
   ]
  },
  {
   "cell_type": "code",
   "execution_count": 171,
   "metadata": {},
   "outputs": [
    {
     "name": "stdout",
     "output_type": "stream",
     "text": [
      "Epoch 1/8\n",
      "1250/1250 [==============================] - 3798s 3s/step - loss: 1.1359 - accuracy: 0.5095\n",
      "Epoch 2/8\n",
      "1250/1250 [==============================] - 3713s 3s/step - loss: 1.0619 - accuracy: 0.5424\n",
      "Epoch 3/8\n",
      "1250/1250 [==============================] - 4016s 3s/step - loss: 1.0323 - accuracy: 0.5562\n",
      "Epoch 4/8\n",
      "1250/1250 [==============================] - 3789s 3s/step - loss: 1.0118 - accuracy: 0.5656\n",
      "Epoch 5/8\n",
      "1250/1250 [==============================] - 3496s 3s/step - loss: 0.9948 - accuracy: 0.5739\n",
      "Epoch 6/8\n",
      "1250/1250 [==============================] - 3477s 3s/step - loss: 0.9799 - accuracy: 0.5814\n",
      "Epoch 7/8\n",
      "1250/1250 [==============================] - 3734s 3s/step - loss: 0.9663 - accuracy: 0.5884\n",
      "Epoch 8/8\n",
      "1250/1250 [==============================] - 3979s 3s/step - loss: 0.9534 - accuracy: 0.5942\n"
     ]
    }
   ],
   "source": [
    "final_model = model.fit([nlp,numeric], y,  batch_size = 720, epochs = 8)"
   ]
  },
  {
   "cell_type": "markdown",
   "metadata": {},
   "source": [
    "# Implementing on Test set"
   ]
  },
  {
   "cell_type": "code",
   "execution_count": 172,
   "metadata": {},
   "outputs": [
    {
     "data": {
      "application/vnd.jupyter.widget-view+json": {
       "model_id": "a72c5485f0d44cd9903e10d9134630db",
       "version_major": 2,
       "version_minor": 0
      },
      "text/plain": [
       "  0%|          | 0/478033 [00:00<?, ?it/s]"
      ]
     },
     "metadata": {},
     "output_type": "display_data"
    },
    {
     "name": "stderr",
     "output_type": "stream",
     "text": [
      "/var/folders/sz/qlhtygjx661flzpy8w5byj240000gn/T/ipykernel_36438/4060403036.py:9: SettingWithCopyWarning: \n",
      "A value is trying to be set on a copy of a slice from a DataFrame\n",
      "\n",
      "See the caveats in the documentation: https://pandas.pydata.org/pandas-docs/stable/user_guide/indexing.html#returning-a-view-versus-a-copy\n",
      "  test_preprocessed_df[\"sentiment_type\"][index] = x.group()\n",
      "/var/folders/sz/qlhtygjx661flzpy8w5byj240000gn/T/ipykernel_36438/4060403036.py:10: SettingWithCopyWarning: \n",
      "A value is trying to be set on a copy of a slice from a DataFrame\n",
      "\n",
      "See the caveats in the documentation: https://pandas.pydata.org/pandas-docs/stable/user_guide/indexing.html#returning-a-view-versus-a-copy\n",
      "  test_preprocessed_df[\"sentiment_score\"][index] = y.group()\n"
     ]
    }
   ],
   "source": [
    "test_preprocessed_df[\"sentiment_type\"] = \"\"\n",
    "\n",
    "test_preprocessed_df[\"sentiment_score\"] = \"\"\n",
    "\n",
    "for index in tqdm_notebook(range(0, len(test_preprocessed_df))):\n",
    "    txt = test_preprocessed_df['sentiment'][index]\n",
    "    x = re.search(\"([A-Z])\\w+\", txt)\n",
    "    y = re.search('[0-9]+.+[0-9]', txt)\n",
    "    test_preprocessed_df[\"sentiment_type\"][index] = x.group()\n",
    "    test_preprocessed_df[\"sentiment_score\"][index] = y.group()\n",
    "\n",
    "test_preprocessed_df = test_preprocessed_df.drop(\n",
    "    columns=['user_id', 'book_id', 'review_id', 'date_added', 'date_updated', 'read_at', 'started_at', 'n_comments', 'sentiment', 'n_votes'])\n",
    "\n",
    "test_preprocessed_df['sentiment_score'] = test_preprocessed_df['sentiment_score'].astype(\n",
    "    float)\n",
    "\n",
    "test_preprocessed_df['sentiment_type'] = test_preprocessed_df['sentiment_type'].map({'Positive': 3, 'Neutral': 2, 'Negative': 1})\n",
    "\n",
    "test_preprocessed_df['sentiment_score'] = test_preprocessed_df['sentiment_type'] * test_preprocessed_df['sentiment_score']"
   ]
  },
  {
   "cell_type": "code",
   "execution_count": 174,
   "metadata": {},
   "outputs": [
    {
     "name": "stdout",
     "output_type": "stream",
     "text": [
      "Shape of data train tensor: (478033, 319)\n"
     ]
    }
   ],
   "source": [
    "review_test = test_preprocessed_df['review_text']\n",
    "numeric_test = test_preprocessed_df.drop(columns = ['review_text']).to_numpy()\n",
    "\n",
    "sequences_test = tokenizer.texts_to_sequences(review_test)\n",
    "\n",
    "nlp_test = pad_sequences(sequences_test, maxlen=MAX_SEQUENCE_LENGTH, padding= 'post', truncating = 'post')\n",
    "print('Shape of data train tensor:', nlp_test.shape)\n"
   ]
  },
  {
   "cell_type": "code",
   "execution_count": 175,
   "metadata": {},
   "outputs": [],
   "source": [
    "final_prediction = model.predict([nlp_test,numeric_test])"
   ]
  },
  {
   "cell_type": "code",
   "execution_count": 188,
   "metadata": {},
   "outputs": [],
   "source": [
    "final_prediction = np.argmax(final_prediction, axis = 1)"
   ]
  },
  {
   "cell_type": "code",
   "execution_count": 191,
   "metadata": {},
   "outputs": [],
   "source": [
    "final_prediction = list(final_prediction)"
   ]
  },
  {
   "cell_type": "markdown",
   "metadata": {},
   "source": [
    "# Creating the submission file"
   ]
  },
  {
   "cell_type": "code",
   "execution_count": 179,
   "metadata": {},
   "outputs": [],
   "source": [
    "submission_df = pd.read_csv('test_preprocessed.csv')\n",
    "\n",
    "submission_df = submission_df[['review_id']]"
   ]
  },
  {
   "cell_type": "code",
   "execution_count": 193,
   "metadata": {},
   "outputs": [],
   "source": [
    "submission_df['rating'] = final_prediction"
   ]
  },
  {
   "cell_type": "code",
   "execution_count": 196,
   "metadata": {},
   "outputs": [],
   "source": [
    "submission_df.to_csv('submission.csv', index = False)"
   ]
  }
 ],
 "metadata": {
  "kernelspec": {
   "display_name": "Python 3.9.13 ('tensorflow')",
   "language": "python",
   "name": "python3"
  },
  "language_info": {
   "codemirror_mode": {
    "name": "ipython",
    "version": 3
   },
   "file_extension": ".py",
   "mimetype": "text/x-python",
   "name": "python",
   "nbconvert_exporter": "python",
   "pygments_lexer": "ipython3",
   "version": "3.9.13"
  },
  "orig_nbformat": 4,
  "vscode": {
   "interpreter": {
    "hash": "2a65f09f337b60830550c51b0eacffe26da5635c793b14c77176b71b5cc1a9cf"
   }
  }
 },
 "nbformat": 4,
 "nbformat_minor": 2
}
