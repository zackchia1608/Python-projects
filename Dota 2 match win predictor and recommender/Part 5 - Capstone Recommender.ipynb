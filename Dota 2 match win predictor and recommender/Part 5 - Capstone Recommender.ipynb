{
 "cells": [
  {
   "cell_type": "markdown",
   "metadata": {},
   "source": [
    "<div class=\"div_image pull-right\">\n",
    "    <div class = \"image image_topic pull-right\">\n",
    "        <img src = \"https://i.imgur.com/EGtMXKh.jpg?1\">\n",
    "    </div>\n",
    "</div>\n",
    "\n",
    "# <b>Capstone Project: Choosing the best heroes to climb the rankings</b>\n"
   ]
  },
  {
   "cell_type": "markdown",
   "metadata": {},
   "source": [
    "In Part 4, I built a artificial neural network model for our recommender system. In this part, I will go through the process of building the recommender system.\n"
   ]
  },
  {
   "cell_type": "markdown",
   "metadata": {},
   "source": [
    "# Import Libraries\n"
   ]
  },
  {
   "cell_type": "code",
   "execution_count": null,
   "metadata": {},
   "outputs": [],
   "source": [
    "from wtforms.validators import DataRequired\n",
    "from wtforms import SelectField, SubmitField\n",
    "from flask_wtf import FlaskForm\n",
    "from flask import Flask, render_template, session, redirect, url_for\n",
    "import tensorflow as tf\n",
    "import numpy as np\n",
    "\n",
    "import json\n",
    "\n",
    "import warnings\n",
    "warnings.filterwarnings('ignore')"
   ]
  },
  {
   "cell_type": "markdown",
   "metadata": {},
   "source": [
    "# Creating the Recommender System\n"
   ]
  },
  {
   "cell_type": "markdown",
   "metadata": {},
   "source": [
    "Our aim for the recommender system is for a person to choose the best available heroes in order to better optimise their team composition to achieve the highest win rate. The greedy algorithm will help in deciding which heroes will be the best option.\n",
    "\n",
    "<b>Greedy Algorithm</b>\n",
    "\n",
    "A greedy algorithm is a method of solving a problem that chooses the best solution available at that time. It works on the following approach:\n",
    "\n",
    "1. It builds the solution piece by piece\n",
    "2. For each step, it offers the piece offering the most immediate benefit.\n",
    "\n",
    "In this context, the algorithm will look at the current state of hero selection from both teams and then browse through the list of available candidates and choose the heroes that provide the best win rates.\n",
    "\n",
    "Finally, I will deploy this on an html page where people can input their choices and the algorithm will return the recommended heroes based on the hero selection.\n"
   ]
  },
  {
   "cell_type": "markdown",
   "metadata": {},
   "source": [
    "## Heroes Dictionary\n"
   ]
  },
  {
   "cell_type": "markdown",
   "metadata": {},
   "source": [
    "First, I need to create a dictionary of heroes based on their ID. For this, we use the heroes JSON file that we scraped in Part 1 to help us. We will create a few different functions that we will need when building our recommender system:\n",
    "\n",
    "1. Create a function to return the name of heroes based on the hero_id. As our algorithm will be based on the hero_id, the user will need to know which hero corresponds to which hero_id. I've created a hero_id to localised name dictionary which will help our algorithm translate the hero_id inputs and output the localised name at the frontend.\n",
    "\n",
    "2. Create a function to return the list of choices for selection. This is similar to the hero_dictionary. However, I have included a 'nil' option as a potential selection so that the algorithm will not register the choice should the input be empty.\n"
   ]
  },
  {
   "cell_type": "code",
   "execution_count": null,
   "metadata": {},
   "outputs": [],
   "source": [
    "# Import heroes data from json file\n",
    "\n",
    "heroes_json = 'heroes.json'\n",
    "\n",
    "# Create\n",
    "\n",
    "\n",
    "def hero_dictionary(heroes_json):\n",
    "    with open(heroes_json, 'r') as fp:\n",
    "        heroes = json.load(fp)\n",
    "\n",
    "    hero_dict = {heroes[num]['id']: heroes[num]['localized_name']\n",
    "                 for num in range(0, len(heroes))}\n",
    "\n",
    "    return hero_dict\n",
    "\n",
    "# Create hero input choices\n",
    "\n",
    "\n",
    "def choice(heroes_json):\n",
    "    with open(heroes_json, 'r') as fp:\n",
    "        heroes = json.load(fp)\n",
    "\n",
    "    hero_dict = {heroes[num]['id']: heroes[num]['localized_name']\n",
    "                 for num in range(0, len(heroes))}\n",
    "\n",
    "    choices = list(hero_dict.items())\n",
    "    nil_choice = ('Nil', 'Nil')\n",
    "    choices.insert(0, nil_choice)\n",
    "    return choices\n"
   ]
  },
  {
   "cell_type": "markdown",
   "metadata": {},
   "source": [
    "## Code Outline\n",
    "\n",
    "The steps to create the recommender system are as follows:\n",
    "\n",
    "1. Create a NN predictor class to hold our Neural Network model that will take in the input and output the predicted win rate.\n",
    "2. Create an engine to wrap around the neural network predictor and run the algorithm\n"
   ]
  },
  {
   "cell_type": "code",
   "execution_count": null,
   "metadata": {},
   "outputs": [],
   "source": [
    "# Store Variables that may change\n",
    "FINAL_HERO_ID = hero_ids[-1]\n",
    "NUM_FEATURES = FINAL_HERO_ID * 2\n",
    "ENV_PATH = 'recommender/model.h5'\n",
    "radiant_team = [45, 39, 87, 66]\n",
    "dire_team = [4, 5, 13, 99, 75]\n",
    "\n",
    "missing_ids = []\n",
    "for num in range(0, FINAL_HERO_ID):\n",
    "    if num not in hero_ids:\n",
    "        missing_ids.append(num)\n"
   ]
  },
  {
   "cell_type": "code",
   "execution_count": null,
   "metadata": {},
   "outputs": [],
   "source": [
    "class NNPredictor:\n",
    "    '''Load Model from the environment path for us to train'''\n",
    "\n",
    "    def __init__(self, env_path=ENV_PATH):\n",
    "        self.model = tf.keras.models.load_model(env_path)\n",
    "\n",
    "    def transform(self, my_team, their_team):\n",
    "        '''Transform our inputs into the tensorflow input array of shape (1, 246). Slice list of IDs from heroes list '''\n",
    "        X = np.zeros((1, (NUM_FEATURES+1)))\n",
    "        '''Slice hero_id chosen onto the array, add number of heroes to hero_id for dire team'''\n",
    "        for hero_id in my_team:\n",
    "            X[0][(hero_id)] = 1\n",
    "        for hero_id in their_team:\n",
    "            X[0][(hero_id + FINAL_HERO_ID)] = 1\n",
    "\n",
    "        missing_ids = []\n",
    "        for num in range(0, FINAL_HERO_ID):\n",
    "            if num not in hero_ids:\n",
    "                missing_ids.append(num)\n",
    "\n",
    "        dire_ids = []\n",
    "        for id in missing_ids:\n",
    "            if id > 0:\n",
    "                dire_id = id + FINAL_HERO_ID\n",
    "                dire_ids.append(dire_id)\n",
    "\n",
    "        missing_ids = missing_ids + dire_ids\n",
    "        '''Delete index number arrays that are missing'''\n",
    "        X = np.delete(X, missing_ids, axis=1)\n",
    "        return X\n",
    "\n",
    "    def recommend(self, my_team, their_team, hero_candidates):\n",
    "        '''Create two lists - one to hold the current hero selection pair, and one to hold the possible candidate \n",
    "        and return the top three heroes with the highest win probability'''\n",
    "        team_possibilities = [(candidate, my_team + [candidate])\n",
    "                              for candidate in hero_candidates]\n",
    "\n",
    "        prob_candidate_pairs = []\n",
    "        for candidate, team in team_possibilities:\n",
    "            query = self.transform(team, their_team)\n",
    "            prob = self.score(query)\n",
    "            prob_candidate_pairs.append((prob, candidate))\n",
    "        prob_candidate_pairs = sorted(prob_candidate_pairs, reverse=True)[0:3]\n",
    "        return prob_candidate_pairs\n",
    "\n",
    "    def score(self, query):\n",
    "        '''Score based on our input'''\n",
    "        rad_prob_1 = self.model.predict(query, verbose=False)[0][0]\n",
    "        return rad_prob_1\n",
    "\n",
    "    def predict(self, dream_team, their_team):\n",
    "        '''Returns the probability of the dream_team winning against their_team.'''\n",
    "        dream_team_query = self.transform(dream_team, their_team)\n",
    "        return self.score(dream_team_query)\n"
   ]
  },
  {
   "cell_type": "code",
   "execution_count": null,
   "metadata": {},
   "outputs": [],
   "source": [
    "class Engine:\n",
    "\n",
    "    def __init__(self, algorithm):\n",
    "        self.algorithm = algorithm\n",
    "\n",
    "    def get_candidates(self, my_team, their_team):\n",
    "        '''Return a list of hero_IDs to consider for recommending'''\n",
    "        ids = [\n",
    "            i for i in hero_ids if i not in my_team and i not in their_team and i not in missing_ids]\n",
    "        return ids\n",
    "\n",
    "    def recommend(self, my_team, their_team, human_readable=False):\n",
    "        '''Return a list of (hero, probability of winning with hero_added) recommend to complete my_team'''\n",
    "\n",
    "        assert len(my_team) <= 5\n",
    "        assert len(their_team) <= 5\n",
    "\n",
    "        hero_candidates = self.get_candidates(my_team, their_team)\n",
    "        return self.algorithm.recommend(my_team, their_team, hero_candidates)\n",
    "\n",
    "    def predict(self, dream_team, their_team):\n",
    "        '''Return the probability of the dream_team winning against their team'''\n",
    "        return self.algorithm.predict(dream_team, their_team)\n"
   ]
  },
  {
   "cell_type": "markdown",
   "metadata": {},
   "source": [
    "# Flask App"
   ]
  },
  {
   "cell_type": "markdown",
   "metadata": {},
   "source": [
    "Lastly, after building the engine and the predictor, I will create an app using flask and deploy it to the web and deploy it to Heroku. \n",
    "\n",
    "To help in the html portion, i have use Flask Wtforms that will help generate our html template. Wtforms is a simple flexible forms validation and rendering library that will help in python html web development. The flask form will be used to create our selection dropdown list for each hero."
   ]
  },
  {
   "cell_type": "markdown",
   "metadata": {},
   "source": [
    "The app can be assessed at the following URL:\n",
    "\n",
    "https://dota-2-hero-recommender.herokuapp.com/"
   ]
  },
  {
   "cell_type": "code",
   "execution_count": null,
   "metadata": {},
   "outputs": [],
   "source": [
    "app = Flask(__name__, template_folder='html_templates')\n",
    "\n",
    "app.config['SECRET_KEY'] = 'mysecretkey'\n",
    "\n",
    "\n",
    "class HeroForm(FlaskForm):\n",
    "\n",
    "    radiant_hero_1 = SelectField(\n",
    "        u'Your First Hero:', choices=choice(heroes_json), validators=[DataRequired()])\n",
    "    radiant_hero_2 = SelectField(\n",
    "        u'Your Second Hero:', choices=choice(heroes_json), validators=[DataRequired()])\n",
    "    radiant_hero_3 = SelectField(\n",
    "        u'Your Third Hero:', choices=choice(heroes_json), validators=[DataRequired()])\n",
    "    radiant_hero_4 = SelectField(\n",
    "        u'Your Fourth Hero:', choices=choice(heroes_json), validators=[DataRequired()])\n",
    "    radiant_hero_5 = SelectField(\n",
    "        u'Your Fifth Hero:', choices=choice(heroes_json), validators=[DataRequired()])\n",
    "    dire_hero_1 = SelectField(u'Enemy First Hero:',\n",
    "                              choices=choice(heroes_json), validators=[DataRequired()])\n",
    "    dire_hero_2 = SelectField(\n",
    "        u'Enemy Second Hero:', choices=choice(heroes_json), validators=[DataRequired()])\n",
    "    dire_hero_3 = SelectField(u'Enemy Third Hero:',\n",
    "                              choices=choice(heroes_json), validators=[DataRequired()])\n",
    "    dire_hero_4 = SelectField(\n",
    "        u'Enemy Fourth Hero:', choices=choice(heroes_json), validators=[DataRequired()])\n",
    "    dire_hero_5 = SelectField(u'Enemy Fifth Hero:',\n",
    "                              choices=choice(heroes_json), validators=[DataRequired()])\n",
    "    submit = SubmitField('Recommend')\n",
    "\n",
    "\n",
    "@app.route('/', methods=['GET', 'POST'])\n",
    "def home():\n",
    "    form = HeroForm()\n",
    "    if form.validate_on_submit():\n",
    "        session['radiant_hero_1'] = form.radiant_hero_1.data\n",
    "        session['radiant_hero_2'] = form.radiant_hero_2.data\n",
    "        session['radiant_hero_3'] = form.radiant_hero_3.data\n",
    "        session['radiant_hero_4'] = form.radiant_hero_4.data\n",
    "        session['radiant_hero_5'] = form.radiant_hero_5.data\n",
    "        session['dire_hero_1'] = form.dire_hero_1.data\n",
    "        session['dire_hero_2'] = form.dire_hero_2.data\n",
    "        session['dire_hero_3'] = form.dire_hero_3.data\n",
    "        session['dire_hero_4'] = form.dire_hero_4.data\n",
    "        session['dire_hero_5'] = form.dire_hero_5.data\n",
    "\n",
    "        return redirect(url_for(\"recommendation\"))\n",
    "\n",
    "    return render_template('home.html', form=form)\n",
    "\n",
    "\n",
    "@app.route('/recommendation')\n",
    "def recommendation():\n",
    "\n",
    "    radiant_team = (filter(lambda x: x != 'Nil', [session['radiant_hero_1'],\n",
    "                                                  session['radiant_hero_2'],\n",
    "                                                  session['radiant_hero_3'],\n",
    "                                                  session['radiant_hero_4'],\n",
    "                                                  session['radiant_hero_5']]))\n",
    "    dire_team = (filter(lambda x: x != 'Nil', [session['dire_hero_1'],\n",
    "                                               session['dire_hero_2'],\n",
    "                                               session['dire_hero_3'],\n",
    "                                               session['dire_hero_4'],\n",
    "                                               session['dire_hero_5']]))\n",
    "    radiant_team = [[int(s) for s in sublist] for sublist in radiant_team]\n",
    "    dire_team = [[int(s) for s in sublist] for sublist in dire_team]\n",
    "\n",
    "    my_team = radiant_team\n",
    "    their_team = dire_team\n",
    "\n",
    "    if len(my_team) >= 5:\n",
    "        return 'Your Team is Full! Please remove a hero from your team for the system to recommend.'\n",
    "    elif len(my_team) == 0 and len(my_team) == 0:\n",
    "        return 'Your Team is Empty! Please fill in at least one hero to continue.'\n",
    "    else:\n",
    "        engine = Engine(NNPredictor())\n",
    "        prob_recommendation_pairs = engine.recommend(my_team, their_team)\n",
    "        recommendations = [hero for prob,\n",
    "                           hero in prob_recommendation_pairs]\n",
    "        heroes = [(hero_dictionary(heroes_json)[hero])\n",
    "                  for hero in recommendations]\n",
    "        prob = (round(engine.predict(my_team, their_team) * 100, 2))\n",
    "        return render_template('recommendation.html', prediction_heroes=f'{heroes}', prediction_wins=f'{prob}')\n",
    "\n",
    "\n",
    "if __name__ == \"__main__\":\n",
    "    app.debug = True\n",
    "    app.run()\n"
   ]
  },
  {
   "cell_type": "markdown",
   "metadata": {},
   "source": [
    "----\n",
    "# Further Research\n",
    "\n",
    "1. One of the ways to improve the predictive power of the win rate will be to incorporate more tangible measures such as player's proficiency with the hero, or items chosen.\n",
    "\n",
    "2. A greedy algorithm search may not be the best algorithm to search for the best hero as it only considers the immediate future to decide the global optimal solution. Hence, the overall optimal solution may hence differ from the solution the algorithm chooses. Further research into other search algorithms could be tested to see if it produces better predictive potential.\n",
    "\n",
    "3. As Dota 2 goes through many balance changes, which changes the power levels of the heroes, the predictive power hence would not be as accurate for future balance changes. Further scraping of data will need to be done for each balance patch."
   ]
  }
 ],
 "metadata": {
  "kernelspec": {
   "display_name": "Python 3.9.13 ('tensorflow')",
   "language": "python",
   "name": "python3"
  },
  "language_info": {
   "codemirror_mode": {
    "name": "ipython",
    "version": 3
   },
   "file_extension": ".py",
   "mimetype": "text/x-python",
   "name": "python",
   "nbconvert_exporter": "python",
   "pygments_lexer": "ipython3",
   "version": "3.9.13"
  },
  "orig_nbformat": 4,
  "vscode": {
   "interpreter": {
    "hash": "2a65f09f337b60830550c51b0eacffe26da5635c793b14c77176b71b5cc1a9cf"
   }
  }
 },
 "nbformat": 4,
 "nbformat_minor": 2
}
