{
 "cells": [
  {
   "cell_type": "markdown",
   "metadata": {},
   "source": [
    "# Import Libraries"
   ]
  },
  {
   "cell_type": "code",
   "execution_count": 5,
   "metadata": {},
   "outputs": [],
   "source": [
    "import pandas as pd\n",
    "import tensorflow as tf\n",
    "import numpy as np\n",
    "import matplotlib.pyplot as plt\n",
    "from tensorflow.keras.models import Model, load_model\n",
    "\n",
    "import pickle, os\n"
   ]
  },
  {
   "cell_type": "code",
   "execution_count": 1,
   "metadata": {},
   "outputs": [],
   "source": [
    "NUM_HEROES = 123\n",
    "NUM_FEATURES = NUM_HEROES * 2\n",
    "\n",
    "class NNPredictor:\n",
    "    def __init__(self, model_root = 'neural_network'):\n",
    "        model_path = os.path.join(model_root, 'model.pkl')\n",
    "        with open(model_path, 'r') as input_file:\n",
    "            self.model = pickle.load(input_file)\n",
    "\n",
    "    def transform(self, my_team, their_team):\n",
    "        X = np.zeros(NUM_FEATURES, dtype=np.int8)\n",
    "        for hero_id in my_team:\n",
    "            X[hero_id - 1] = 1\n",
    "        for hero_id in their_team:\n",
    "            X[hero_id - 1 + NUM_HEROES] = 1\n",
    "        return X\n",
    "\n",
    "    def recommend(self, my_team, their_team, hero_candidates):\n",
    "        team_possibilities = [(candidate, my_team + [candidate]) for candidate in hero_candidates]\n",
    "\n",
    "        prob_candidate_pairs = []\n",
    "        for candidate, team in team_possibilities:\n",
    "            query = self.transform(team, their_team)\n",
    "            prob = self.score(query)\n",
    "            prob_candidate_pairs.append((prob, candidate))\n",
    "        prob_candidate_pairs = sorted(prob_candidate_pairs, reverse = True)[0:5 - len(my_team)]\n",
    "        return prob_candidate_pairs\n",
    "\n",
    "    def score(self,query):\n",
    "        radiant_query = query\n",
    "        rad_prob = self.model.predict_proba(radiant_query)[0][1]\n",
    "        return rad_prob\n",
    "\n",
    "    def predict(self, dream_team, their_team):\n",
    "        '''Returns the probability of the dream_team winning against their_team.'''\n",
    "        dream_team_query = self.transform(dream_team, their_team)\n",
    "        return self.score(dream_team_query)\n",
    "            #return self.model.predict_proba(dream_team_query)[0][1]"
   ]
  }
 ],
 "metadata": {
  "kernelspec": {
   "display_name": "Python 3.9.7 ('gpu2')",
   "language": "python",
   "name": "python3"
  },
  "language_info": {
   "codemirror_mode": {
    "name": "ipython",
    "version": 3
   },
   "file_extension": ".py",
   "mimetype": "text/x-python",
   "name": "python",
   "nbconvert_exporter": "python",
   "pygments_lexer": "ipython3",
   "version": "3.9.7"
  },
  "orig_nbformat": 4,
  "vscode": {
   "interpreter": {
    "hash": "1c5f7932c9bad284bfb1f032b745153074d382c6f8d94f2e8b200b22955e97eb"
   }
  }
 },
 "nbformat": 4,
 "nbformat_minor": 2
}
