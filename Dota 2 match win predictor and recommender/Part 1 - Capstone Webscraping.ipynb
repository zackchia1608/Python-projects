{
 "cells": [
  {
   "cell_type": "markdown",
   "id": "53c8833d",
   "metadata": {},
   "source": [
    "<div class=\"div_image pull-right\">\n",
    "    <div class = \"image image_topic pull-right\">\n",
    "        <img src = \"https://i.imgur.com/EGtMXKh.jpg?1\">\n",
    "    </div>\n",
    "</div>\n",
    "\n",
    "# <b>Capstone Project: Predicting Dota 2 Match Wins using Machine Learning and Recommender System (Webscraping)</b>\n"
   ]
  },
  {
   "cell_type": "markdown",
   "id": "f5045ac7",
   "metadata": {},
   "source": [
    "---\n",
    "\n",
    "# <b>Background</b>\n",
    "\n",
    "*Esports*\n",
    "\n",
    "Esports, short for electronic sports has been a growing sport around the world and viewed by many around the world. In 2017, the International Olympic Committee (IOC) recognised the growing popularity of esports and concluded that \"Competitve esports could be considered as a sporting activity, and the players involved prepare and train with an intensity which may be comparable to athletes in traditional sports.\" As the legitimacy of esports grows, many players around the world form teams and compete in high stakes tournaments with huge prize pools, similar to traditional sports.\n",
    "\n",
    "*Dota2*\n",
    "\n",
    "One popular esports game is Dota 2, a multiplayer online battle arena (MOBA) video game developed by Valve. Dota 2 is played in matches between two teams of five players, with each team occupying and defending their own separate base on the map. Each of the ten players independently controls a powerful character known as a \"hero\" that all have unique abilities and differing styles of play. During a match players collect experience points and items for their heroes to successfully defeat the opposing team's heroes in player versus player combat. A team wins by being the first to destroy the other team's \"Ancient\", a large structure located within their base. Throughout the lifespan of the game, new heroes and items are constantly added or balanced over various game patches, which keeps the dynamics of the games in a constant flux.\n",
    "\n",
    "Since 2011, The International(TI) is the largest world championship tournament for Dota 2 that has been held annually in different countries(with the exception of 2020 due to COVID-19 pandemic). The prize pool is crowdfunded and has increased from US$1.6m in 2011 to US$40m in 2021, which indicates the interest and popularity of the competition. As of this project, the 2022 TI competition is scheduled to take place in Singapore.\n",
    "\n",
    "Given the huge following and the stable competitive scene, it has seen a rise in interest for predictive modelling and analysis. Hence, this project will seek to create a predictive model to predict match wins before the start of the match by only looking at hero selection. This project will also seek to build a recommender system to recommend the highest winning probability given the selection of heroes chosen.\n"
   ]
  },
  {
   "cell_type": "markdown",
   "id": "f9b0c65a",
   "metadata": {},
   "source": [
    "----\n",
    "\n",
    "# Importing Libraries\n"
   ]
  },
  {
   "cell_type": "code",
   "execution_count": 1,
   "metadata": {},
   "outputs": [],
   "source": [
    "# Import Libraries\n",
    "import requests\n",
    "import pandas as pd\n",
    "import time\n",
    "from tqdm import tqdm\n",
    "import json\n",
    "from json.decoder import JSONDecodeError\n",
    "\n",
    "\n",
    "\n",
    "# Warnings Suppressions\n",
    "import warnings\n",
    "warnings.filterwarnings('ignore')\n"
   ]
  },
  {
   "cell_type": "code",
   "execution_count": 2,
   "id": "8f282cfa",
   "metadata": {},
   "outputs": [],
   "source": [
    "# Set Pandas Options:\n",
    "\n",
    "pd.set_option(\"display.max_columns\", 500)\n",
    "pd.set_option(\"display.max_rows\", 500)\n",
    "pd.set_option(\"display.max_colwidth\", 100)\n"
   ]
  },
  {
   "cell_type": "markdown",
   "id": "b41cad74",
   "metadata": {},
   "source": [
    "# <b>Data Collection</b>\n"
   ]
  },
  {
   "cell_type": "markdown",
   "id": "5f2114f8",
   "metadata": {},
   "source": [
    "The match data will be scraped from https://docs.opendota.com/, which is an API that parses matches from Steam. We will be scraping ~500,000 match data from Patch 7.3.1d. This will ensure that there will be no balance changes that will affect the quality of our data.\n"
   ]
  },
  {
   "cell_type": "code",
   "execution_count": 3,
   "id": "6622db3f",
   "metadata": {},
   "outputs": [],
   "source": [
    "# Webscrape Function\n",
    "\n",
    "match_dict = {}\n",
    "\n",
    "url = \"https://api.opendota.com/api/publicMatches\"\n",
    "\n",
    "\n",
    "def webscrape(match_id):\n",
    "    for i in tqdm(range(1, 25001)): #Each pull gives you 100 matches\n",
    "        params = {'less_than_match_id': match_id}\n",
    "        res = requests.get(url, params)\n",
    "        try:\n",
    "            data = res.json()\n",
    "            time.sleep(0.8)\n",
    "        # to continue scraping from last match id\n",
    "            match_id = data[-1]['match_id']\n",
    "            df_name = str(i)\n",
    "            match_dict[df_name] = pd.DataFrame(\n",
    "            data)\n",
    "        except (KeyError, JSONDecodeError):\n",
    "            pass \n",
    "\n"
   ]
  },
  {
   "cell_type": "markdown",
   "id": "2705ce3d",
   "metadata": {},
   "source": [
    "## Webscraping\n"
   ]
  },
  {
   "cell_type": "code",
   "execution_count": 4,
   "id": "c52842df",
   "metadata": {},
   "outputs": [
    {
     "name": "stderr",
     "output_type": "stream",
     "text": [
      "100%|██████████| 25000/25000 [8:35:21<00:00,  1.24s/it]   \n"
     ]
    }
   ],
   "source": [
    "# Webscrape the data\n",
    "webscrape(6667194009)"
   ]
  },
  {
   "cell_type": "code",
   "execution_count": 5,
   "id": "eb9ecc53",
   "metadata": {},
   "outputs": [],
   "source": [
    "# Putting it into a dataframe\n",
    "dota2_matches = pd.concat(match_dict.values(), ignore_index=True)\n"
   ]
  },
  {
   "cell_type": "code",
   "execution_count": 6,
   "id": "5cb631fb",
   "metadata": {},
   "outputs": [
    {
     "name": "stdout",
     "output_type": "stream",
     "text": [
      "<class 'pandas.core.frame.DataFrame'>\n",
      "RangeIndex: 2478900 entries, 0 to 2478899\n",
      "Data columns (total 14 columns):\n",
      " #   Column         Dtype  \n",
      "---  ------         -----  \n",
      " 0   match_id       int64  \n",
      " 1   match_seq_num  int64  \n",
      " 2   radiant_win    bool   \n",
      " 3   start_time     int64  \n",
      " 4   duration       int64  \n",
      " 5   avg_mmr        float64\n",
      " 6   num_mmr        float64\n",
      " 7   lobby_type     int64  \n",
      " 8   game_mode      int64  \n",
      " 9   avg_rank_tier  int64  \n",
      " 10  num_rank_tier  int64  \n",
      " 11  cluster        int64  \n",
      " 12  radiant_team   object \n",
      " 13  dire_team      object \n",
      "dtypes: bool(1), float64(2), int64(9), object(2)\n",
      "memory usage: 248.2+ MB\n"
     ]
    }
   ],
   "source": [
    "dota2_matches.info()\n"
   ]
  },
  {
   "cell_type": "code",
   "execution_count": 7,
   "id": "62375d97",
   "metadata": {},
   "outputs": [],
   "source": [
    "hero_url = 'https://api.opendota.com/api/heroes'\n",
    "\n",
    "hero_res = requests.get(hero_url)\n",
    "\n",
    "hero_data = hero_res.json()"
   ]
  },
  {
   "cell_type": "markdown",
   "id": "300b6630",
   "metadata": {},
   "source": [
    "---\n",
    "\n",
    "## Data Dictionary\n",
    "\n",
    "| Name          | data_type | Value(s)           |Description                                                                                                          |\n",
    "| ------------- | --------- | ------------------ | -------------------------------------------------------------------------------------------------------------------- |\n",
    "| match_id      | int       | -                  | Match Identification Number                                                                                          |\n",
    "| match_seq_num | int       | -                  | Match Sequence Number                                                                                                |\n",
    "| radiant_win   | Boolean   | True/ False        | True: Radiant Team Wins False: Radiant Team Loses                                                                    |\n",
    "| start_time    | int       | -                  | Start Time of Match                                                                                                  |\n",
    "| duration      | int       | -                  | Match Duration                                                                                                       |\n",
    "| avg_mmr       | float     | -                   | Average MMR of players in match. A higher value indicates more skilled players                                       |\n",
    "| num_mmr       | float     | -                   | Number of players with have their MMR public.                                                                        |\n",
    "| lobby_type    | int       | 0, 7               | Type of match. 0: Normal Match 7: Ranked Match                                                                       |\n",
    "| game_mode     | int       | 2, 3, 4, 5, 16, 22 | Type of game. 2: Captain's Mode 3: Random Draft 4: Single Draft 5: All Random 16: Captain's Draft 22: All Draft |\n",
    "| avg_rank_tier | int       | -                   | Average Rank Tier of players in match. First number indicates the rank tier, second number indicates number of stars |\n",
    "| num_rank_tier | int       | -                   | Number of players in the match that have their rank profile public                                                   |     |\n",
    "| cluster       | int       | -                  | Server cluster where match take place                                                                                |\n",
    "| radiant_team  | str       | -                  | String of Hero_Ids of radiant team                                                                                   |\n",
    "| dire_team     | str       | -                  | String of Hero_Ids of dire team                                                                                      |\n"
   ]
  },
  {
   "cell_type": "markdown",
   "id": "f4448bf6",
   "metadata": {},
   "source": [
    "## Exporting to CSV File\n"
   ]
  },
  {
   "cell_type": "code",
   "execution_count": 9,
   "id": "8a7e95de",
   "metadata": {},
   "outputs": [],
   "source": [
    "# Export to csv file\n",
    "dota2_matches.to_csv(\"Data\\dota2_dataset_uncleaned.csv\", index=False)\n"
   ]
  },
  {
   "cell_type": "code",
   "execution_count": 10,
   "id": "950e5ab7",
   "metadata": {},
   "outputs": [],
   "source": [
    "# Export heros dictionary to JSON file\n",
    "\n",
    "with open('heroes.json', 'w') as outfile:\n",
    "    json.dump(hero_data, outfile, ensure_ascii = False)"
   ]
  }
 ],
 "metadata": {
  "kernelspec": {
   "display_name": "Python 3.8.13 ('pycaret')",
   "language": "python",
   "name": "python3"
  },
  "language_info": {
   "codemirror_mode": {
    "name": "ipython",
    "version": 3
   },
   "file_extension": ".py",
   "mimetype": "text/x-python",
   "name": "python",
   "nbconvert_exporter": "python",
   "pygments_lexer": "ipython3",
   "version": "3.8.13"
  },
  "vscode": {
   "interpreter": {
    "hash": "e7ba023c7a7b5968a0970b21f6d62edc7d642cb028d5719cc4c120618862147b"
   }
  }
 },
 "nbformat": 4,
 "nbformat_minor": 5
}
